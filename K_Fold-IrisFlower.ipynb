{
 "cells": [
  {
   "cell_type": "code",
   "execution_count": 65,
   "id": "0d4b6966-1606-447d-98b2-305cb54c9956",
   "metadata": {},
   "outputs": [],
   "source": [
    "import numpy as np\n",
    "from sklearn.model_selection import cross_val_score\n",
    "from sklearn.datasets import load_iris\n",
    "from sklearn.tree import DecisionTreeClassifier\n",
    "from sklearn.ensemble import RandomForestClassifier\n",
    "from sklearn.svm import SVC\n",
    "from sklearn.linear_model import LogisticRegression"
   ]
  },
  {
   "cell_type": "code",
   "execution_count": 67,
   "id": "d3e6c786-d46c-4688-996d-d830fe04539a",
   "metadata": {},
   "outputs": [],
   "source": [
    "iris=load_iris()"
   ]
  },
  {
   "cell_type": "code",
   "execution_count": 69,
   "id": "22875652-db7b-4b14-8d17-b238d9e09cfc",
   "metadata": {},
   "outputs": [
    {
     "data": {
      "text/plain": [
       "['DESCR',\n",
       " 'data',\n",
       " 'data_module',\n",
       " 'feature_names',\n",
       " 'filename',\n",
       " 'frame',\n",
       " 'target',\n",
       " 'target_names']"
      ]
     },
     "execution_count": 69,
     "metadata": {},
     "output_type": "execute_result"
    }
   ],
   "source": [
    "dir(iris)"
   ]
  },
  {
   "cell_type": "code",
   "execution_count": 71,
   "id": "df897b1e-1dd4-43fc-bafb-58fdf163c363",
   "metadata": {},
   "outputs": [],
   "source": [
    "# Logistic Regression"
   ]
  },
  {
   "cell_type": "code",
   "execution_count": 73,
   "id": "51bbf40b-30d6-48ae-a1dd-4f737e73f94b",
   "metadata": {},
   "outputs": [
    {
     "data": {
      "text/plain": [
       "array([0.96666667, 1.        , 0.93333333, 0.96666667, 1.        ])"
      ]
     },
     "execution_count": 73,
     "metadata": {},
     "output_type": "execute_result"
    }
   ],
   "source": [
    "scores_logistic=cross_val_score(LogisticRegression(max_iter=1000,solver='lbfgs'),iris.data,iris.target)\n",
    "scores_logistic"
   ]
  },
  {
   "cell_type": "code",
   "execution_count": 75,
   "id": "f9f4c9de-0065-476a-8de8-ac48ef160a60",
   "metadata": {},
   "outputs": [
    {
     "data": {
      "text/plain": [
       "0.9733333333333334"
      ]
     },
     "execution_count": 75,
     "metadata": {},
     "output_type": "execute_result"
    }
   ],
   "source": [
    "np.average(scores_logistic)"
   ]
  },
  {
   "cell_type": "code",
   "execution_count": 77,
   "id": "220aba5b-0832-4118-a741-602411acc47c",
   "metadata": {},
   "outputs": [],
   "source": [
    "# Decision tree"
   ]
  },
  {
   "cell_type": "code",
   "execution_count": 79,
   "id": "3e67040a-e9ae-45d5-9337-b77ad2474b77",
   "metadata": {},
   "outputs": [
    {
     "data": {
      "text/plain": [
       "array([0.96666667, 0.96666667, 0.9       , 1.        , 1.        ])"
      ]
     },
     "execution_count": 79,
     "metadata": {},
     "output_type": "execute_result"
    }
   ],
   "source": [
    "scores_DecisionTree=cross_val_score(DecisionTreeClassifier(),iris.data,iris.target)\n",
    "scores_DecisionTree"
   ]
  },
  {
   "cell_type": "code",
   "execution_count": 81,
   "id": "954a788f-d1bf-4bb1-bde6-15690fbc4e42",
   "metadata": {},
   "outputs": [
    {
     "data": {
      "text/plain": [
       "0.9666666666666668"
      ]
     },
     "execution_count": 81,
     "metadata": {},
     "output_type": "execute_result"
    }
   ],
   "source": [
    "np.average(scores_DecisionTree)"
   ]
  },
  {
   "cell_type": "code",
   "execution_count": 83,
   "id": "c7e3fba8-d157-4d77-b939-34af02990319",
   "metadata": {},
   "outputs": [],
   "source": [
    "# Random Forest"
   ]
  },
  {
   "cell_type": "code",
   "execution_count": 85,
   "id": "a658e9e6-7d60-4d7b-979a-7867b5faa467",
   "metadata": {},
   "outputs": [
    {
     "data": {
      "text/plain": [
       "array([0.96666667, 0.96666667, 0.93333333, 0.96666667, 1.        ])"
      ]
     },
     "execution_count": 85,
     "metadata": {},
     "output_type": "execute_result"
    }
   ],
   "source": [
    "score_RandomForest = cross_val_score(RandomForestClassifier(),iris.data,iris.target)\n",
    "score_RandomForest"
   ]
  },
  {
   "cell_type": "code",
   "execution_count": 86,
   "id": "49ba8ffe-7b62-4817-935c-5a7821448033",
   "metadata": {},
   "outputs": [
    {
     "data": {
      "text/plain": [
       "0.9666666666666668"
      ]
     },
     "execution_count": 86,
     "metadata": {},
     "output_type": "execute_result"
    }
   ],
   "source": [
    "np.average(score_RandomForest)"
   ]
  },
  {
   "cell_type": "code",
   "execution_count": 89,
   "id": "dafd0801-97fd-4b0a-8b46-c883ed6f07ac",
   "metadata": {},
   "outputs": [],
   "source": [
    "# Support Vector machine"
   ]
  },
  {
   "cell_type": "code",
   "execution_count": 91,
   "id": "2982618e-51d4-4786-a6bd-9771974144d9",
   "metadata": {},
   "outputs": [
    {
     "data": {
      "text/plain": [
       "array([0.96666667, 0.96666667, 0.96666667, 0.93333333, 1.        ])"
      ]
     },
     "execution_count": 91,
     "metadata": {},
     "output_type": "execute_result"
    }
   ],
   "source": [
    "source_svm=cross_val_score(SVC(),iris.data,iris.target)\n",
    "source_svm"
   ]
  },
  {
   "cell_type": "code",
   "execution_count": 93,
   "id": "fa8aeecf-67c6-4d15-b85a-c395f78ca2fa",
   "metadata": {},
   "outputs": [
    {
     "data": {
      "text/plain": [
       "0.9666666666666666"
      ]
     },
     "execution_count": 93,
     "metadata": {},
     "output_type": "execute_result"
    }
   ],
   "source": [
    "np.average(source_svm)"
   ]
  },
  {
   "cell_type": "code",
   "execution_count": null,
   "id": "12244ec1-8303-4367-9f29-eee36c9b7b97",
   "metadata": {},
   "outputs": [],
   "source": [
    "# For the given iris flower data we can see that Logistic Regression works well so far."
   ]
  }
 ],
 "metadata": {
  "kernelspec": {
   "display_name": "Python 3 (ipykernel)",
   "language": "python",
   "name": "python3"
  },
  "language_info": {
   "codemirror_mode": {
    "name": "ipython",
    "version": 3
   },
   "file_extension": ".py",
   "mimetype": "text/x-python",
   "name": "python",
   "nbconvert_exporter": "python",
   "pygments_lexer": "ipython3",
   "version": "3.12.4"
  }
 },
 "nbformat": 4,
 "nbformat_minor": 5
}
